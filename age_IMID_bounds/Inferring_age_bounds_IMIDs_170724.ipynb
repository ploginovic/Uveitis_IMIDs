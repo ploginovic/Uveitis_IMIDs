{
 "cells": [
  {
   "cell_type": "code",
   "execution_count": 1,
   "id": "f60a7f0c-2d4c-42be-9234-d660431f2ba2",
   "metadata": {},
   "outputs": [
    {
     "ename": "NameError",
     "evalue": "name 'sns' is not defined",
     "output_type": "error",
     "traceback": [
      "\u001b[0;31m---------------------------------------------------------------------------\u001b[0m",
      "\u001b[0;31mNameError\u001b[0m                                 Traceback (most recent call last)",
      "Cell \u001b[0;32mIn[1], line 23\u001b[0m\n\u001b[1;32m     20\u001b[0m plt\u001b[38;5;241m.\u001b[39mfigure(figsize\u001b[38;5;241m=\u001b[39m(\u001b[38;5;241m10\u001b[39m, \u001b[38;5;241m6\u001b[39m))\n\u001b[1;32m     22\u001b[0m \u001b[38;5;66;03m# Plot each line\u001b[39;00m\n\u001b[0;32m---> 23\u001b[0m \u001b[43msns\u001b[49m\u001b[38;5;241m.\u001b[39mlineplot(x\u001b[38;5;241m=\u001b[39mcase_uc_df[\u001b[38;5;124m'\u001b[39m\u001b[38;5;124mAge\u001b[39m\u001b[38;5;124m'\u001b[39m], y\u001b[38;5;241m=\u001b[39mcase_uc_df[\u001b[38;5;124m'\u001b[39m\u001b[38;5;124mPercentile\u001b[39m\u001b[38;5;124m'\u001b[39m], label\u001b[38;5;241m=\u001b[39m\u001b[38;5;124m'\u001b[39m\u001b[38;5;124mCase & UC\u001b[39m\u001b[38;5;124m'\u001b[39m, marker\u001b[38;5;241m=\u001b[39m\u001b[38;5;124m'\u001b[39m\u001b[38;5;124mo\u001b[39m\u001b[38;5;124m'\u001b[39m, linestyle\u001b[38;5;241m=\u001b[39m\u001b[38;5;124m'\u001b[39m\u001b[38;5;124m-\u001b[39m\u001b[38;5;124m'\u001b[39m, color\u001b[38;5;241m=\u001b[39m\u001b[38;5;124m'\u001b[39m\u001b[38;5;124mblue\u001b[39m\u001b[38;5;124m'\u001b[39m)\n\u001b[1;32m     24\u001b[0m sns\u001b[38;5;241m.\u001b[39mlineplot(x\u001b[38;5;241m=\u001b[39mcontrol_uc_df[\u001b[38;5;124m'\u001b[39m\u001b[38;5;124mAge\u001b[39m\u001b[38;5;124m'\u001b[39m],y\u001b[38;5;241m=\u001b[39mcontrol_uc_df[\u001b[38;5;124m'\u001b[39m\u001b[38;5;124mPercentile\u001b[39m\u001b[38;5;124m'\u001b[39m], label\u001b[38;5;241m=\u001b[39m\u001b[38;5;124m'\u001b[39m\u001b[38;5;124mControl & UC\u001b[39m\u001b[38;5;124m'\u001b[39m, marker\u001b[38;5;241m=\u001b[39m\u001b[38;5;124m'\u001b[39m\u001b[38;5;124mo\u001b[39m\u001b[38;5;124m'\u001b[39m, linestyle\u001b[38;5;241m=\u001b[39m\u001b[38;5;124m'\u001b[39m\u001b[38;5;124m-\u001b[39m\u001b[38;5;124m'\u001b[39m, color\u001b[38;5;241m=\u001b[39m\u001b[38;5;124m'\u001b[39m\u001b[38;5;124mred\u001b[39m\u001b[38;5;124m'\u001b[39m)\n\u001b[1;32m     26\u001b[0m \u001b[38;5;66;03m# Adding plot details\u001b[39;00m\n",
      "\u001b[0;31mNameError\u001b[0m: name 'sns' is not defined"
     ]
    },
    {
     "data": {
      "text/plain": [
       "<Figure size 1000x600 with 0 Axes>"
      ]
     },
     "metadata": {},
     "output_type": "display_data"
    }
   ],
   "source": [
    "import pandas as pd\n",
    "import matplotlib.pyplot as plt\n",
    "\n",
    "# Data for \"Case & UC\"\n",
    "case_uc_data = {\n",
    "    \"Percentile\": [1, 5, 10, 25, 50, 75, 90, 95, 99],\n",
    "    \"Age\": [19.47981, 25.11431, 31.71253, 41.78782, 53.25941, 65.4538, 76.19439, 80.99384, 88.68994]\n",
    "}\n",
    "\n",
    "# Data for \"Control & UC\"\n",
    "control_uc_data = {\n",
    "    \"Percentile\": [1, 5, 10, 25, 50, 75, 90, 95, 99],\n",
    "    \"Age\": [19.21697, 29.2293, 36.50924, 47.50445, 60.02053, 71.72621, 79.06092, 83.21697, 90.141]\n",
    "}\n",
    "\n",
    "# Convert to DataFrame\n",
    "case_uc_df = pd.DataFrame(case_uc_data)\n",
    "control_uc_df = pd.DataFrame(control_uc_data)\n",
    "# Set up the plot\n",
    "plt.figure(figsize=(10, 6))\n",
    "\n",
    "# Plot each line\n",
    "sns.lineplot(x=case_uc_df['Age'], y=case_uc_df['Percentile'], label='Case & UC', marker='o', linestyle='-', color='blue')\n",
    "sns.lineplot(x=control_uc_df['Age'],y=control_uc_df['Percentile'], label='Control & UC', marker='o', linestyle='-', color='red')\n",
    "\n",
    "# Adding plot details\n",
    "plt.title('Comparison of Age Distribution Percentiles')\n",
    "plt.xlabel('Percentiles')\n",
    "plt.ylabel('Age at Index')\n",
    "plt.xticks(rotation=45)  # Rotate x labels for better readability\n",
    "plt.legend()\n",
    "plt.grid(True)\n",
    "plt.tight_layout()\n",
    "plt.show()"
   ]
  },
  {
   "cell_type": "code",
   "execution_count": null,
   "id": "0aa61e81-f794-4606-aa0b-7977f494b49f",
   "metadata": {},
   "outputs": [],
   "source": []
  }
 ],
 "metadata": {
  "kernelspec": {
   "display_name": "Python 3 (ipykernel)",
   "language": "python",
   "name": "python3"
  },
  "language_info": {
   "codemirror_mode": {
    "name": "ipython",
    "version": 3
   },
   "file_extension": ".py",
   "mimetype": "text/x-python",
   "name": "python",
   "nbconvert_exporter": "python",
   "pygments_lexer": "ipython3",
   "version": "3.9.19"
  }
 },
 "nbformat": 4,
 "nbformat_minor": 5
}
