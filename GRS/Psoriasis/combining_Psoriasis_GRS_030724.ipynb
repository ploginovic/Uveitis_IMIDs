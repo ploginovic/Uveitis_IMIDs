{
 "cells": [
  {
   "cell_type": "code",
   "execution_count": 1,
   "id": "bd90b5ee-09fa-4ddc-a856-9f7841b9ec05",
   "metadata": {},
   "outputs": [],
   "source": [
    "import pandas as pd"
   ]
  },
  {
   "cell_type": "code",
   "execution_count": 2,
   "id": "cc63e575-296d-4691-8bb6-74562caeffa5",
   "metadata": {},
   "outputs": [],
   "source": [
    "def aggregate_grs_scores(base_filename, date, excluded_chromosomes=[]):\n",
    "    total_score = None  # Initialize to None, will hold the aggregated scores dataframe\n",
    "    \n",
    "    # Loop through chromosomes 1 to 22\n",
    "    for chr_num in range(1, 23):\n",
    "        if chr_num in excluded_chromosomes:\n",
    "            continue  # Skip the excluded chromosomes\n",
    "\n",
    "        # Construct the filename for the current chromosome\n",
    "        filename = f\"{base_filename}_chr{chr_num}_{date}.sscore\"\n",
    "        \n",
    "        try:\n",
    "            # Read the score file\n",
    "            current_grs = pd.read_csv(filename, sep='\\t')\n",
    "            \n",
    "            # Check if total_score is None (i.e., first valid file)\n",
    "            if total_score is None:\n",
    "                total_score = current_grs\n",
    "            else:\n",
    "                # Sum the 'SCORE1_SUM' and 'ALLELE_CT' columns\n",
    "                total_score['SCORE1_SUM'] += current_grs['SCORE1_SUM']\n",
    "                total_score['ALLELE_CT'] += current_grs['ALLELE_CT']\n",
    "\n",
    "        except FileNotFoundError:\n",
    "            print(f\"File {filename} not found. Skipping this chromosome.\")\n",
    "    \n",
    "    return total_score\n"
   ]
  },
  {
   "cell_type": "code",
   "execution_count": 3,
   "id": "b2395ec9-1b75-4b38-ba0d-6f6c1b90c3e6",
   "metadata": {},
   "outputs": [],
   "source": [
    "base_filename = 'Psoriasis_GRS'\n",
    "total_grs_scores = aggregate_grs_scores(base_filename,\n",
    "                                        date='020724')"
   ]
  },
  {
   "cell_type": "code",
   "execution_count": 4,
   "id": "65906e4f-84b7-4b95-9dc7-ca6368a86e80",
   "metadata": {},
   "outputs": [],
   "source": [
    "total_grs_scores.rename({'IID':'n_eid', 'SCORE1_SUM':'Psoriasis_GRS'}, axis=1, inplace=True)"
   ]
  },
  {
   "cell_type": "code",
   "execution_count": 5,
   "id": "8e16772e-f125-4001-9625-1b23e51a0ffa",
   "metadata": {},
   "outputs": [],
   "source": [
    "def z_normalize_column(df, column_name):\n",
    "    mean = df[column_name].mean()\n",
    "    std = df[column_name].std()\n",
    "    df[column_name] = (df[column_name] - mean) / std\n",
    "    return df\n",
    "\n",
    "# Columns to normalize\n",
    "cols_to_normalise = ['Psoriasis_GRS']\n",
    "\n",
    "# Apply z-normalization to the specified columns\n",
    "for col in cols_to_normalise:\n",
    "    df = z_normalize_column(total_grs_scores, col)"
   ]
  },
  {
   "cell_type": "code",
   "execution_count": 6,
   "id": "de39baab-4fda-4166-aef5-2903c9cf6dc6",
   "metadata": {},
   "outputs": [
    {
     "data": {
      "text/plain": [
       "count    4.874090e+05\n",
       "mean     2.681615e-16\n",
       "std      1.000000e+00\n",
       "min     -3.736035e+00\n",
       "25%     -6.836425e-01\n",
       "50%     -8.658954e-02\n",
       "75%      5.933268e-01\n",
       "max      5.474866e+00\n",
       "Name: Psoriasis_GRS, dtype: float64"
      ]
     },
     "execution_count": 6,
     "metadata": {},
     "output_type": "execute_result"
    }
   ],
   "source": [
    "total_grs_scores.Psoriasis_GRS.describe()"
   ]
  },
  {
   "cell_type": "code",
   "execution_count": 7,
   "id": "a9119be7-0680-4e3d-8e95-6c9e0214ffe8",
   "metadata": {},
   "outputs": [],
   "source": [
    "total_grs_scores.drop(['#FID', 'ALLELE_CT', 'NAMED_ALLELE_DOSAGE_SUM', 'SCORE1_AVG'], axis=1, inplace=True)"
   ]
  },
  {
   "cell_type": "code",
   "execution_count": 8,
   "id": "7dc1dc4c-8517-4d54-897a-84ad38d3fa07",
   "metadata": {},
   "outputs": [],
   "source": [
    "total_grs_scores.to_stata('/slade/home/pl450/Uveitis/GRS/Psoriasis/psoriasis_grs_030724.dta')"
   ]
  },
  {
   "cell_type": "code",
   "execution_count": null,
   "id": "2065b45a-a2f1-407e-b407-365db5a3e820",
   "metadata": {},
   "outputs": [],
   "source": []
  }
 ],
 "metadata": {
  "kernelspec": {
   "display_name": "Python 3 (ipykernel)",
   "language": "python",
   "name": "python3"
  },
  "language_info": {
   "codemirror_mode": {
    "name": "ipython",
    "version": 3
   },
   "file_extension": ".py",
   "mimetype": "text/x-python",
   "name": "python",
   "nbconvert_exporter": "python",
   "pygments_lexer": "ipython3",
   "version": "3.9.19"
  }
 },
 "nbformat": 4,
 "nbformat_minor": 5
}
