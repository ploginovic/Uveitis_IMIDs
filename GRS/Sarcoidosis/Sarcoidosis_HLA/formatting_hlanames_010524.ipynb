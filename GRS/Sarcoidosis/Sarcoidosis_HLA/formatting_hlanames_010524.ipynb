{
 "cells": [
  {
   "cell_type": "code",
   "execution_count": 23,
   "id": "f3844443",
   "metadata": {},
   "outputs": [],
   "source": [
    "import pandas as pd\n",
    "import numpy as np"
   ]
  },
  {
   "cell_type": "code",
   "execution_count": 49,
   "id": "d6588239",
   "metadata": {},
   "outputs": [],
   "source": [
    "hla_needed = pd.read_csv(\"hla_table.csv\")\n",
    "len(hla_needed)"
   ]
  },
  {
   "cell_type": "code",
   "execution_count": 50,
   "id": "ed058a23",
   "metadata": {},
   "outputs": [],
   "source": [
    "ukbb_format = (pd\n",
    "               .read_csv(\"https://biobank.ctsu.ox.ac.uk/crystal/ukb/auxdata/ukb_hla_v2.txt\",\n",
    "                         sep='\\t'))\n",
    "ukbb_format.head()"
   ]
  },
  {
   "cell_type": "code",
   "execution_count": 53,
   "id": "b5ccfa1f",
   "metadata": {},
   "outputs": [],
   "source": [
    "def format_allele(allele):\n",
    "    part1, part2 = allele.split('*')  # Split the string by '*'\n",
    "    part2 = str(int(part2))  # Convert to integer to remove leading zeros, then back to string\n",
    "    return f\"{part1}_{part2}\"  # Concatenate with '_'"
   ]
  },
  {
   "cell_type": "code",
   "execution_count": 54,
   "id": "2973e859",
   "metadata": {},
   "outputs": [],
   "source": [
    "hla_needed['HLA allele'] = hla_needed['HLA allele'].apply(format_allele)"
   ]
  },
  {
   "cell_type": "code",
   "execution_count": 55,
   "id": "f1615037",
   "metadata": {},
   "outputs": [
    {
     "data": {
      "text/plain": [
       "['DRB1_101',\n",
       " 'DQA1_101',\n",
       " 'DQB1_501',\n",
       " 'DRB1_1501',\n",
       " 'DQB1_602',\n",
       " 'B_3501',\n",
       " 'DQB1_602',\n",
       " 'DQA1_102']"
      ]
     },
     "execution_count": 55,
     "metadata": {},
     "output_type": "execute_result"
    }
   ],
   "source": [
    "[i for i in hla_needed['HLA allele'] if i in ukbb_format]"
   ]
  },
  {
   "cell_type": "code",
   "execution_count": 56,
   "id": "c557c641",
   "metadata": {},
   "outputs": [],
   "source": [
    "hla_needed.to_csv(\"hla_table.csv\", index=None)"
   ]
  }
 ],
 "metadata": {
  "kernelspec": {
   "display_name": "Python 3 (ipykernel)",
   "language": "python",
   "name": "python3"
  },
  "language_info": {
   "codemirror_mode": {
    "name": "ipython",
    "version": 3
   },
   "file_extension": ".py",
   "mimetype": "text/x-python",
   "name": "python",
   "nbconvert_exporter": "python",
   "pygments_lexer": "ipython3",
   "version": "3.9.5"
  }
 },
 "nbformat": 4,
 "nbformat_minor": 5
}
