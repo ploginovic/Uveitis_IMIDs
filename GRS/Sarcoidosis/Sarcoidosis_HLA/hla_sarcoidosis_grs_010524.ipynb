{
 "cells": [
  {
   "cell_type": "code",
   "execution_count": 1,
   "id": "8dc24129",
   "metadata": {},
   "outputs": [],
   "source": [
    "import pandas as pd\n",
    "import numpy as np\n",
    "import time\n",
    "from math import ceil"
   ]
  },
  {
   "cell_type": "code",
   "execution_count": 2,
   "id": "44949b3a",
   "metadata": {},
   "outputs": [],
   "source": [
    "sarcoid_hla = pd.read_csv('hla_table.csv')"
   ]
  },
  {
   "cell_type": "code",
   "execution_count": 3,
   "id": "d5fa03ec",
   "metadata": {},
   "outputs": [
    {
     "name": "stdout",
     "output_type": "stream",
     "text": [
      "DRB1_101\n",
      "DQA1_101\n",
      "DQB1_501\n",
      "DQB1_602\n",
      "B_3501\n",
      "DQB1_602\n",
      "DQA1_102\n"
     ]
    }
   ],
   "source": [
    "sarcoid_scores = {}\n",
    "for index, row in sarcoid_hla.iterrows():\n",
    "    print(row['HLA allele'])\n",
    "    key = row['HLA allele']\n",
    "    sarcoid_scores.update({key:round(row['beta MA'],5)})"
   ]
  },
  {
   "cell_type": "code",
   "execution_count": 4,
   "id": "2b4b2ba2",
   "metadata": {},
   "outputs": [],
   "source": [
    "allele_df = (pd\n",
    "             .read_csv(\"/slade/projects/Research_Project-MRC158833/\"\n",
    "                       \"UKBiobank/500K_Genetic_data/imputed_data/ukb_hla_v2.txt\",\n",
    "                       delimiter=\"\\t\", header=0, usecols=sarcoid_scores.keys()))\n",
    "\n",
    "indices = (pd\n",
    "           .read_csv(\"/slade/projects/Research_Project-MRC158833/\"\n",
    "                     \"UKBiobank/500K_Genetic_data/imputed_data/ukb_hla_dosage_v2.indiv\",\n",
    "                     delimiter=\"\\t\", header=None, names=['n_eid', 'FID']))"
   ]
  },
  {
   "cell_type": "code",
   "execution_count": 5,
   "id": "d69dc81a",
   "metadata": {},
   "outputs": [
    {
     "data": {
      "text/html": [
       "<div>\n",
       "<style scoped>\n",
       "    .dataframe tbody tr th:only-of-type {\n",
       "        vertical-align: middle;\n",
       "    }\n",
       "\n",
       "    .dataframe tbody tr th {\n",
       "        vertical-align: top;\n",
       "    }\n",
       "\n",
       "    .dataframe thead th {\n",
       "        text-align: right;\n",
       "    }\n",
       "</style>\n",
       "<table border=\"1\" class=\"dataframe\">\n",
       "  <thead>\n",
       "    <tr style=\"text-align: right;\">\n",
       "      <th></th>\n",
       "      <th>B_3501</th>\n",
       "      <th>DRB1_101</th>\n",
       "      <th>DQB1_501</th>\n",
       "      <th>DQB1_602</th>\n",
       "      <th>DQA1_101</th>\n",
       "      <th>DQA1_102</th>\n",
       "    </tr>\n",
       "  </thead>\n",
       "  <tbody>\n",
       "    <tr>\n",
       "      <th>0</th>\n",
       "      <td>0.0</td>\n",
       "      <td>0.0</td>\n",
       "      <td>0.0</td>\n",
       "      <td>0.0</td>\n",
       "      <td>0.0</td>\n",
       "      <td>0.0</td>\n",
       "    </tr>\n",
       "    <tr>\n",
       "      <th>1</th>\n",
       "      <td>0.0</td>\n",
       "      <td>0.0</td>\n",
       "      <td>0.0</td>\n",
       "      <td>1.0</td>\n",
       "      <td>0.0</td>\n",
       "      <td>1.0</td>\n",
       "    </tr>\n",
       "    <tr>\n",
       "      <th>2</th>\n",
       "      <td>0.0</td>\n",
       "      <td>1.0</td>\n",
       "      <td>1.0</td>\n",
       "      <td>0.0</td>\n",
       "      <td>1.0</td>\n",
       "      <td>0.0</td>\n",
       "    </tr>\n",
       "    <tr>\n",
       "      <th>3</th>\n",
       "      <td>0.0</td>\n",
       "      <td>0.0</td>\n",
       "      <td>0.0</td>\n",
       "      <td>1.0</td>\n",
       "      <td>0.0</td>\n",
       "      <td>1.0</td>\n",
       "    </tr>\n",
       "    <tr>\n",
       "      <th>4</th>\n",
       "      <td>0.0</td>\n",
       "      <td>0.0</td>\n",
       "      <td>0.0</td>\n",
       "      <td>0.0</td>\n",
       "      <td>0.0</td>\n",
       "      <td>0.0</td>\n",
       "    </tr>\n",
       "  </tbody>\n",
       "</table>\n",
       "</div>"
      ],
      "text/plain": [
       "   B_3501  DRB1_101  DQB1_501  DQB1_602  DQA1_101  DQA1_102\n",
       "0     0.0       0.0       0.0       0.0       0.0       0.0\n",
       "1     0.0       0.0       0.0       1.0       0.0       1.0\n",
       "2     0.0       1.0       1.0       0.0       1.0       0.0\n",
       "3     0.0       0.0       0.0       1.0       0.0       1.0\n",
       "4     0.0       0.0       0.0       0.0       0.0       0.0"
      ]
     },
     "execution_count": 5,
     "metadata": {},
     "output_type": "execute_result"
    }
   ],
   "source": [
    "allele_df.head()"
   ]
  },
  {
   "cell_type": "code",
   "execution_count": 6,
   "id": "fc102acd",
   "metadata": {},
   "outputs": [
    {
     "data": {
      "text/plain": [
       "{'DRB1_101': -1.07881,\n",
       " 'DQA1_101': -0.75502,\n",
       " 'DQB1_501': -0.63488,\n",
       " 'DQB1_602': 0.38526,\n",
       " 'B_3501': -0.75502,\n",
       " 'DQA1_102': 0.30748}"
      ]
     },
     "execution_count": 6,
     "metadata": {},
     "output_type": "execute_result"
    }
   ],
   "source": [
    "sarcoid_scores"
   ]
  },
  {
   "cell_type": "code",
   "execution_count": 7,
   "id": "44a5e888",
   "metadata": {},
   "outputs": [],
   "source": [
    "def custom_round(number, threshold=0.7):\n",
    "    if number - int(number) >= threshold:\n",
    "#        print(number, int(number))\n",
    "        return ceil(number)\n",
    "    else:\n",
    "        if 1<=number<1.5:\n",
    "            return(1)\n",
    "        elif number>1.5:\n",
    "            return(2)\n",
    "        else:\n",
    "            return 0\n",
    "# # Example data: DataFrame with alleles and their associated probabilities\n",
    "# data = {\n",
    "#     'Allele': ['A*01:01', 'A*02:01', 'B*35:01', 'B*07:02', 'A*01:01', 'A*02:01', 'B*35:01', 'B*07:02'],\n",
    "#     'Probability': [0.7, 0.65, 0.72, 0.45, 1, 1.3, 1.51, 1.7]\n",
    "# }\n",
    "# df = pd.DataFrame(data)\n",
    "\n",
    "# # Apply the custom rounding to the probability column\n",
    "# df['Selected'] = df['Probability'].apply(custom_round)\n",
    "\n",
    "# # Show the updated DataFrame\n",
    "# print(df)"
   ]
  },
  {
   "cell_type": "code",
   "execution_count": 8,
   "id": "0f01af76",
   "metadata": {},
   "outputs": [
    {
     "data": {
      "text/plain": [
       "(-0.003, 0.25]    361357\n",
       "(0.75, 1.0]       114910\n",
       "(1.75, 2.0]         9637\n",
       "(0.5, 0.75]         1845\n",
       "(1.5, 1.75]          322\n",
       "(0.25, 0.5]          268\n",
       "(1.25, 1.5]           38\n",
       "(1.0, 1.25]            0\n",
       "Name: DQB1_602, dtype: int64"
      ]
     },
     "execution_count": 8,
     "metadata": {},
     "output_type": "execute_result"
    },
    {
     "data": {
      "image/png": "[encoded data removed]",
      "text/plain": [
       "<Figure size 432x288 with 1 Axes>"
      ]
     },
     "metadata": {
      "needs_background": "light"
     },
     "output_type": "display_data"
    }
   ],
   "source": [
    "allele_df.DQB1_602.hist()\n",
    "#allele_df.DRB1_1501.hist()\n",
    "allele_df.DQB1_602.value_counts(bins=8)"
   ]
  },
  {
   "cell_type": "code",
   "execution_count": 9,
   "id": "1447cdbe",
   "metadata": {},
   "outputs": [],
   "source": [
    "for i in allele_df.columns:\n",
    "    allele_df[i] = allele_df[i].apply(custom_round)"
   ]
  },
  {
   "cell_type": "code",
   "execution_count": 10,
   "id": "3be97efd",
   "metadata": {},
   "outputs": [
    {
     "data": {
      "text/plain": [
       "0    363016\n",
       "1    115402\n",
       "2      9959\n",
       "Name: DQB1_602, dtype: int64"
      ]
     },
     "execution_count": 10,
     "metadata": {},
     "output_type": "execute_result"
    }
   ],
   "source": [
    "allele_df.DQB1_602.value_counts()"
   ]
  },
  {
   "cell_type": "code",
   "execution_count": 11,
   "id": "fa4aae89",
   "metadata": {},
   "outputs": [],
   "source": [
    "assert len(allele_df) == len(indices)"
   ]
  },
  {
   "cell_type": "code",
   "execution_count": 12,
   "id": "e685140b",
   "metadata": {},
   "outputs": [
    {
     "name": "stdout",
     "output_type": "stream",
     "text": [
      "31.41910982131958\n"
     ]
    }
   ],
   "source": [
    "start_time = time.time()\n",
    "\n",
    "risk_scores = []\n",
    "\n",
    "\n",
    "for index, row in allele_df.iterrows():\n",
    "\n",
    "#    print([row[col] for col in allele_df.columns])\n",
    "    \n",
    "    risk_score = sum(custom_round(row[col]) * sarcoid_scores.get(col, 0)\n",
    "                     for col in allele_df.columns)\n",
    "    risk_scores.append(risk_score)\n",
    "\n",
    "    \n",
    "# Stop the timer\n",
    "end_time = time.time()\n",
    "\n",
    "# Calculate the elapsed time for the entire DataFrame\n",
    "elapsed_time = end_time - start_time\n",
    "print(elapsed_time)"
   ]
  },
  {
   "cell_type": "code",
   "execution_count": 13,
   "id": "0023a381",
   "metadata": {},
   "outputs": [],
   "source": [
    "master_df = pd.concat([indices, allele_df], axis=1)\n",
    "master_df['Sarcoid_HLA_GRS'] = risk_scores"
   ]
  },
  {
   "cell_type": "code",
   "execution_count": 15,
   "id": "be3b513e",
   "metadata": {},
   "outputs": [
    {
     "data": {
      "text/html": [
       "<div>\n",
       "<style scoped>\n",
       "    .dataframe tbody tr th:only-of-type {\n",
       "        vertical-align: middle;\n",
       "    }\n",
       "\n",
       "    .dataframe tbody tr th {\n",
       "        vertical-align: top;\n",
       "    }\n",
       "\n",
       "    .dataframe thead th {\n",
       "        text-align: right;\n",
       "    }\n",
       "</style>\n",
       "<table border=\"1\" class=\"dataframe\">\n",
       "  <thead>\n",
       "    <tr style=\"text-align: right;\">\n",
       "      <th></th>\n",
       "      <th>n_eid</th>\n",
       "      <th>FID</th>\n",
       "      <th>B_3501</th>\n",
       "      <th>DRB1_101</th>\n",
       "      <th>DQB1_501</th>\n",
       "      <th>DQB1_602</th>\n",
       "      <th>DQA1_101</th>\n",
       "      <th>DQA1_102</th>\n",
       "      <th>Sarcoid_HLA_GRS</th>\n",
       "    </tr>\n",
       "  </thead>\n",
       "  <tbody>\n",
       "    <tr>\n",
       "      <th>0</th>\n",
       "      <td>5487330</td>\n",
       "      <td>5487330</td>\n",
       "      <td>0</td>\n",
       "      <td>0</td>\n",
       "      <td>0</td>\n",
       "      <td>0</td>\n",
       "      <td>0</td>\n",
       "      <td>0</td>\n",
       "      <td>0.00000</td>\n",
       "    </tr>\n",
       "    <tr>\n",
       "      <th>1</th>\n",
       "      <td>2190141</td>\n",
       "      <td>2190141</td>\n",
       "      <td>0</td>\n",
       "      <td>0</td>\n",
       "      <td>0</td>\n",
       "      <td>1</td>\n",
       "      <td>0</td>\n",
       "      <td>1</td>\n",
       "      <td>0.69274</td>\n",
       "    </tr>\n",
       "    <tr>\n",
       "      <th>2</th>\n",
       "      <td>5787554</td>\n",
       "      <td>5787554</td>\n",
       "      <td>0</td>\n",
       "      <td>1</td>\n",
       "      <td>1</td>\n",
       "      <td>0</td>\n",
       "      <td>1</td>\n",
       "      <td>0</td>\n",
       "      <td>-2.46871</td>\n",
       "    </tr>\n",
       "    <tr>\n",
       "      <th>3</th>\n",
       "      <td>4202126</td>\n",
       "      <td>4202126</td>\n",
       "      <td>0</td>\n",
       "      <td>0</td>\n",
       "      <td>0</td>\n",
       "      <td>1</td>\n",
       "      <td>0</td>\n",
       "      <td>1</td>\n",
       "      <td>0.69274</td>\n",
       "    </tr>\n",
       "    <tr>\n",
       "      <th>4</th>\n",
       "      <td>4895751</td>\n",
       "      <td>4895751</td>\n",
       "      <td>0</td>\n",
       "      <td>0</td>\n",
       "      <td>0</td>\n",
       "      <td>0</td>\n",
       "      <td>0</td>\n",
       "      <td>0</td>\n",
       "      <td>0.00000</td>\n",
       "    </tr>\n",
       "  </tbody>\n",
       "</table>\n",
       "</div>"
      ],
      "text/plain": [
       "     n_eid      FID  B_3501  DRB1_101  DQB1_501  DQB1_602  DQA1_101  DQA1_102  \\\n",
       "0  5487330  5487330       0         0         0         0         0         0   \n",
       "1  2190141  2190141       0         0         0         1         0         1   \n",
       "2  5787554  5787554       0         1         1         0         1         0   \n",
       "3  4202126  4202126       0         0         0         1         0         1   \n",
       "4  4895751  4895751       0         0         0         0         0         0   \n",
       "\n",
       "   Sarcoid_HLA_GRS  \n",
       "0          0.00000  \n",
       "1          0.69274  \n",
       "2         -2.46871  \n",
       "3          0.69274  \n",
       "4          0.00000  "
      ]
     },
     "execution_count": 15,
     "metadata": {},
     "output_type": "execute_result"
    }
   ],
   "source": [
    "master_df.head()"
   ]
  },
  {
   "cell_type": "code",
   "execution_count": 27,
   "id": "7837cc51",
   "metadata": {},
   "outputs": [],
   "source": [
    "master_df.to_csv('/slade/home/pl450/Uveitis/GRS/Sarcoidosis/Sarcoidosis_HLA/Sarcoidosis_HLA_GRS_010524.tsv',\n",
    "                sep='\\t', index=None)"
   ]
  }
 ],
 "metadata": {
  "kernelspec": {
   "display_name": "Python 3 (ipykernel)",
   "language": "python",
   "name": "python3"
  },
  "language_info": {
   "codemirror_mode": {
    "name": "ipython",
    "version": 3
   },
   "file_extension": ".py",
   "mimetype": "text/x-python",
   "name": "python",
   "nbconvert_exporter": "python",
   "pygments_lexer": "ipython3",
   "version": "3.9.5"
  }
 },
 "nbformat": 4,
 "nbformat_minor": 5
}
